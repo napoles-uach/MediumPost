{
  "nbformat": 4,
  "nbformat_minor": 0,
  "metadata": {
    "colab": {
      "name": "CoraDGL.ipynb",
      "provenance": [],
      "authorship_tag": "ABX9TyNMgqAaW4QrQWCRCoby1E3Q",
      "include_colab_link": true
    },
    "kernelspec": {
      "name": "python3",
      "display_name": "Python 3"
    },
    "language_info": {
      "name": "python"
    }
  },
  "cells": [
    {
      "cell_type": "markdown",
      "metadata": {
        "id": "view-in-github",
        "colab_type": "text"
      },
      "source": [
        "<a href=\"https://colab.research.google.com/github/napoles-uach/MediumPost/blob/main/CoraDGL.ipynb\" target=\"_parent\"><img src=\"https://colab.research.google.com/assets/colab-badge.svg\" alt=\"Open In Colab\"/></a>"
      ]
    },
    {
      "cell_type": "code",
      "metadata": {
        "id": "xLb3xPTKA8Cv"
      },
      "source": [
        "pip install dgl"
      ],
      "execution_count": null,
      "outputs": []
    },
    {
      "cell_type": "code",
      "metadata": {
        "id": "JJY9iW3cA_xU"
      },
      "source": [
        "import dgl\n",
        "import dgl.function as fn\n",
        "import torch as th\n",
        "import torch.nn as nn\n",
        "import torch.nn.functional as F\n",
        "from dgl import DGLGraph"
      ],
      "execution_count": null,
      "outputs": []
    },
    {
      "cell_type": "code",
      "metadata": {
        "colab": {
          "base_uri": "https://localhost:8080/"
        },
        "id": "a8JYL8JZBFro",
        "outputId": "f299f931-66bd-441a-f424-6a20ee90b49f"
      },
      "source": [
        "from dgl.data import CoraGraphDataset\n",
        "\n",
        "dataset = CoraGraphDataset()\n",
        "g = dataset[0]\n",
        "features = g.ndata['feat']\n",
        "labels = g.ndata['label']\n",
        "train_mask = g.ndata['train_mask']\n",
        "test_mask = g.ndata['test_mask']"
      ],
      "execution_count": 3,
      "outputs": [
        {
          "output_type": "stream",
          "text": [
            "Downloading /root/.dgl/cora_v2.zip from https://data.dgl.ai/dataset/cora_v2.zip...\n",
            "Extracting file to /root/.dgl/cora_v2\n",
            "Finished data loading and preprocessing.\n",
            "  NumNodes: 2708\n",
            "  NumEdges: 10556\n",
            "  NumFeats: 1433\n",
            "  NumClasses: 7\n",
            "  NumTrainingSamples: 140\n",
            "  NumValidationSamples: 500\n",
            "  NumTestSamples: 1000\n",
            "Done saving data into cached files.\n"
          ],
          "name": "stdout"
        }
      ]
    },
    {
      "cell_type": "code",
      "metadata": {
        "id": "vRPzRZMpx7PG"
      },
      "source": [
        "import pandas as pd\n",
        "df=pd.DataFrame(features[0:500].numpy())"
      ],
      "execution_count": 4,
      "outputs": []
    },
    {
      "cell_type": "code",
      "metadata": {
        "colab": {
          "base_uri": "https://localhost:8080/",
          "height": 387
        },
        "id": "vXzu-Hg2xyeQ",
        "outputId": "1f02f37e-af9a-4f15-a594-a7f3c50d1dc9"
      },
      "source": [
        "import seaborn as sns\n",
        "import matplotlib.pyplot as plt\n",
        "plt.figure(figsize = (16,16))\n",
        "ax=sns.heatmap(df[range(1433)],cmap='coolwarm',square=True,cbar=False,xticklabels=False,yticklabels=False)\n",
        "plt.xlabel('Features',fontsize=25)\n",
        "plt.ylabel('Node Index',fontsize=25)"
      ],
      "execution_count": 5,
      "outputs": [
        {
          "output_type": "execute_result",
          "data": {
            "text/plain": [
              "Text(140.0, 0.5, 'Node Index')"
            ]
          },
          "metadata": {
            "tags": []
          },
          "execution_count": 5
        },
        {
          "output_type": "display_data",
          "data": {
            "image/png": "[encoded data removed]",
            "text/plain": [
              "<Figure size 1152x1152 with 1 Axes>"
            ]
          },
          "metadata": {
            "tags": []
          }
        }
      ]
    },
    {
      "cell_type": "markdown",
      "metadata": {
        "id": "hpebhpQ7O4nT"
      },
      "source": [
        "$$ \\tilde A = A + I$$\n",
        "\n",
        "$$ \\tilde D_{ii} = \\sum_jA_{ij} $$\n",
        "\n",
        "$$ \\hat A = \\tilde D^{-1/2} \\tilde A \\tilde D^{-1/2}$$\n",
        "\n",
        "$$x_1 = \\text{ ReLU } (\\hat A X W^{(0)} +b^{(0)})  $$\n",
        "\n",
        "$$x_2 =  (\\hat A x_1 W^{(1)}+b^{(1)} ) $$"
      ]
    },
    {
      "cell_type": "code",
      "metadata": {
        "id": "_Pgu_8VMBKNF"
      },
      "source": [
        "from dgl.nn import GraphConv\n",
        "class Net(nn.Module):\n",
        "    def __init__(self):\n",
        "        super(Net, self).__init__()\n",
        "        self.layer1 = GraphConv(1433, 8*16) #activation default=None\n",
        "        self.layer2 = GraphConv(8*16, 7)    #activation default=None\n",
        "\n",
        "\n",
        "    def forward(self, g, features):\n",
        "        x1 = F.relu(self.layer1(g, features)) #ReLU activation function\n",
        "        x2 = self.layer2(g, x1)\n",
        "        return x2\n",
        "net = Net()"
      ],
      "execution_count": 6,
      "outputs": []
    },
    {
      "cell_type": "code",
      "metadata": {
        "id": "8iO2kR-BBP-7"
      },
      "source": [
        "def evaluate(model, g, features, labels, mask):\n",
        "    model.eval()\n",
        "    with th.no_grad():\n",
        "        logits = model(g, features)\n",
        "        logits = logits[mask]\n",
        "        labels = labels[mask]\n",
        "        _, indices = th.max(logits, dim=1)\n",
        "        correct = th.sum(indices == labels)\n",
        "        return correct.item() * 1.0 / len(labels)"
      ],
      "execution_count": 7,
      "outputs": []
    },
    {
      "cell_type": "code",
      "metadata": {
        "id": "EfthAgsjBTWQ"
      },
      "source": [
        "import numpy as np\n",
        "g.add_edges(g.nodes(), g.nodes())\n",
        "optimizer = th.optim.Adam(net.parameters(), lr=1e-2)\n",
        "loss_list=[]\n",
        "acc_list=[]\n",
        "all_logits=[]\n",
        "for epoch in range(200):\n",
        "    net.train()\n",
        "    logits = net(g, features)\n",
        "    \n",
        "    #print(logits)\n",
        "    logp = F.log_softmax(logits, 1)\n",
        "    all_logits.append(logp)\n",
        "    loss = F.nll_loss(logp[train_mask], labels[train_mask])\n",
        "\n",
        "    optimizer.zero_grad()\n",
        "    loss.backward()\n",
        "    optimizer.step()\n",
        "\n",
        "    acc = evaluate(net, g, features, labels, test_mask)\n",
        "    loss_list.append(loss.item())\n",
        "    acc_list.append(acc)"
      ],
      "execution_count": 8,
      "outputs": []
    },
    {
      "cell_type": "code",
      "metadata": {
        "colab": {
          "base_uri": "https://localhost:8080/",
          "height": 296
        },
        "id": "EhhTDhWbFIcX",
        "outputId": "181161fb-bed8-46fe-f237-233c7cc07063"
      },
      "source": [
        "plt.plot(acc_list)\n",
        "plt.xlabel('Epoch')\n",
        "plt.ylabel('Accuracy')"
      ],
      "execution_count": 9,
      "outputs": [
        {
          "output_type": "execute_result",
          "data": {
            "text/plain": [
              "Text(0, 0.5, 'Accuracy')"
            ]
          },
          "metadata": {
            "tags": []
          },
          "execution_count": 9
        },
        {
          "output_type": "display_data",
          "data": {
            "image/png": "[encoded data removed]",
            "text/plain": [
              "<Figure size 432x288 with 1 Axes>"
            ]
          },
          "metadata": {
            "tags": [],
            "needs_background": "light"
          }
        }
      ]
    },
    {
      "cell_type": "code",
      "metadata": {
        "id": "ODJsUe_JL8TZ"
      },
      "source": [
        "import pandas as pd\n",
        "df=pd.DataFrame(all_logits[199][:].detach().numpy())"
      ],
      "execution_count": 10,
      "outputs": []
    },
    {
      "cell_type": "code",
      "metadata": {
        "id": "8mv46DRdN1uk"
      },
      "source": [
        "lista=[]\n",
        "for i in range(len(labels)):\n",
        "  lista.append((all_logits[199][i].detach().numpy().argmax()))\n",
        "\n",
        "df['Class']=pd.Series(lista)"
      ],
      "execution_count": 11,
      "outputs": []
    },
    {
      "cell_type": "code",
      "metadata": {
        "id": "BZq36pv7PBQC"
      },
      "source": [
        "fails=[]\n",
        "pred_lab=df['Class'].to_list()\n",
        "lab_list=labels.tolist()\n",
        "for i in range(len(lab_list)):\n",
        "  if lab_list[i] != pred_lab[i]:\n",
        "    fails.append([i,lab_list[i],pred_lab[i]])"
      ],
      "execution_count": 12,
      "outputs": []
    }
  ]
}